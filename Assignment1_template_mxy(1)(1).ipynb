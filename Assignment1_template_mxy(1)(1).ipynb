{
 "cells": [
  {
   "cell_type": "markdown",
   "metadata": {},
   "source": [
    "这个单元格给助教，请忽略!\n",
    "\n",
    "### Score:\n",
    "\n",
    "### Comment: \n",
    "\n",
    "请实现每个 function 内容，确保最终提交的notebook是可以运行的。\n",
    "\n",
    "每一题除了必须要报告的 输出/图表，可以添加解释（中文即可）。此外可以自定义其他 function / 变量，自由添加单元格，但请确保题目中给出的 function （如第一题的 Print_values）可以正常调用。"
   ]
  },
  {
   "cell_type": "markdown",
   "metadata": {},
   "source": [
    "**Collaboration:**  \n",
    "\n",
    "Collaboration on solving the assignment is allowed, after you have thought about the problem sets on your own. It is also OK to get clarification (but not solutions) from online resources, again after you have thought about the problem sets on your own. \n",
    "\n",
    "There are two requirements for collaboration: \n",
    "\n",
    "* Cite your collaborators **fully and completely** (*e.g.*, \"XXX explained to me what is asked in problem set 3\"). Or cite online resources (*e.g.*, \"I got inspired by reading XXX\") that helped you.\n",
    "\n",
    "* Write your scripts and report **independently** - the scripts and report must come from you only."
   ]
  },
  {
   "cell_type": "markdown",
   "metadata": {},
   "source": [
    "# 1. Flowchart \n",
    "\n",
    "Write a function `Print_values` with arguments `a`, `b`, and `c` to reflect the following flowchart. Here the purple parallelogram operator on a list `[x, y, z]` is to compute and print `x+y-10z`. Try your output with some random `a`, `b`, and `c` values. Report your output when `a = 10, b = 5, c = 1`."
   ]
  },
  {
   "cell_type": "code",
   "execution_count": 3,
   "metadata": {},
   "outputs": [
    {
     "name": "stdout",
     "output_type": "stream",
     "text": [
      "[10, 5, 1]\n",
      "5\n"
     ]
    }
   ],
   "source": [
    "# \n",
    "def Print_values(a, b, c):\n",
    "    list1 = sorted([a,b,c],reverse = True) #创建list,并按照从大到小的顺序排序\n",
    "    print(list1)\n",
    "    if b == list1[0]:\n",
    "        print(\"程序退出\")\n",
    "    else:\n",
    "        print(list1[0]+list1[1]-10*list1[2])   #将list中的三个数进行计算并输出结果\n",
    "#Your code here\n",
    "Print_values(10, 5, 1)"
   ]
  },
  {
   "cell_type": "markdown",
   "metadata": {},
   "source": [
    "Report your output when `a = 10, b = 5, c = 1`: [5] "
   ]
  },
  {
   "cell_type": "markdown",
   "metadata": {},
   "source": [
    "[ 1.函数的入口参数为a,b,c类型为int型\n",
    "2.\t将a,b,c放入list1，并从大到小排序\n",
    "3.\t如果list1[0]是b，说明b最大，根据流程图，结束程序；其他的情况就代入公式里计算出\n",
    "结果：输出是5 ]是5\n"
   ]
  },
  {
   "cell_type": "markdown",
   "metadata": {},
   "source": [
    "# 2. Continuous ceiling function\n",
    "\n",
    "Given a list with `N` positive integers. For every element `x` of the list, find the value of continuous ceiling function defined as `F(x) = F(ceil(x/3)) + 2x`, where `F(1) = 1`. "
   ]
  },
  {
   "cell_type": "code",
   "execution_count": 12,
   "metadata": {},
   "outputs": [
    {
     "name": "stdout",
     "output_type": "stream",
     "text": [
      "[75, 101, 5, 15]\n"
     ]
    },
    {
     "data": {
      "text/plain": [
       "[75, 101, 5, 15]"
      ]
     },
     "execution_count": 12,
     "metadata": {},
     "output_type": "execute_result"
    }
   ],
   "source": [
    "import math\n",
    "import numpy as np\n",
    "# def calculate_F_values(N_list):\n",
    "def calculate_F_values(N_list):\n",
    "    F_value = []\n",
    "    for i in N_list:\n",
    "        F_value.append(F(i))\n",
    "    print(F_value)\n",
    "    return F_value    \n",
    "# \n",
    "def F(x):\n",
    "    if x == 1:\n",
    "        return 1\n",
    "    else:\n",
    "        return (F(math.ceil(x/3))+2*x)\n",
    "# Your code here\n",
    "    \n",
    "#测试\n",
    "N_list = [25,33,2,5]\n",
    "calculate_F_values(N_list)"
   ]
  },
  {
   "cell_type": "markdown",
   "metadata": {},
   "source": [
    "[ 1.调用random库中的randint，在1-99中随机生成20个正整数组成list2。\n",
    "2.\t定义函数F（x）,返回=1，x不等于1时，返回F(ceil(x/3)) + 2x。即采用递归的方式来计算函数值\n",
    "3.\t在函数calculate_F_values(N_list)中遍历N_list中的元素，输出F（x），放入列表F_value中，打印并返回\n",
    "结果：对于N_list = [25,33,2,5]，输出为[75, 101, 5, 15]\n"
   ]
  },
  {
   "cell_type": "markdown",
   "metadata": {},
   "source": [
    "# 3. Dice rolling\n",
    "\n",
    "**3.1** Given `10` dice each with `6` faces, numbered from `1` to `6`. Write a function `Find_number_of_ways` to find the number of ways to get sum `x`, defined as the sum of values on each face when all the dice are thrown."
   ]
  },
  {
   "cell_type": "code",
   "execution_count": 7,
   "metadata": {},
   "outputs": [],
   "source": [
    "# def find_number_of_ways(sum_x):\n",
    "#\n",
    "def Find_number_of_ways(sum_x):\n",
    "    n = 0\n",
    "    for a in range(11):                 # a是10个筛子中摇到6的筛子数\n",
    "        for b in range(11):                 # b是10个筛子中摇到5的筛子数\n",
    "            for c in range(11):               # c是10个筛子中摇到4的筛子数\n",
    "                for d in range(11):             # d是10个筛子中摇到3的筛子数\n",
    "                    for e in range(11):           # e是10个筛子中摇到2的筛子数\n",
    "                        for f in range(11):          # f是10个筛子中摇到1的筛子数\n",
    "                                                        #筛子数之和必须是10，而且点数和每等于一次x，n就加1\n",
    "                            if (a+b+c+d+e+f == 10) and (6*a + 5*b + 4*c + 3*d + 2*e + f == sum_x):\n",
    "                                n += 1                          \n",
    "    return(n)\n",
    "# Your code here"
   ]
  },
  {
   "cell_type": "markdown",
   "metadata": {},
   "source": [
    "**3.2** Count the number of ways for any `x` from `10` to `60`, assign the number of ways to a list called `Number_of_ways`, so which `x` yields the maximum of `Number_of_ways`?"
   ]
  },
  {
   "cell_type": "code",
   "execution_count": 9,
   "metadata": {},
   "outputs": [
    {
     "name": "stdout",
     "output_type": "stream",
     "text": [
      "34得到的最大\n",
      "The sum that yields the maximum number of ways is 34 with 141 ways.\n"
     ]
    }
   ],
   "source": [
    "# Your code here\n",
    "Number_of_ways = []\n",
    "for i in range(10, 61):                        # 让i遍历10到60                         \n",
    "#     print(i)                                   # 主要是想看一眼代码进度\n",
    "    Number_of_ways.append(Find_number_of_ways(i))  # 将F(i)的每一个值加到列表中\n",
    "index = Number_of_ways.index(max(Number_of_ways))  # index找到列表中最大的数的位置\n",
    "print(f\"Waiting for exits.\")                      # 把那个位置＋10就是i的值 \n",
    "print(f\"The sum that yields the maximum number of ways is {index+10} with {max(Number_of_ways)} ways.\")\n",
    "# print(f\"The sum that yields the maximum number of ways is {max_sum} with {max_ways} ways.\")"
   ]
  },
  {
   "cell_type": "markdown",
   "metadata": {},
   "source": [
    "So which `x` yields the maximum of `Number_of_ways`? [34]"
   ]
  },
  {
   "cell_type": "markdown",
   "metadata": {},
   "source": [
    "[ 把这个问题变成一个加权计算的问题，设有a个筛子抛到点数6，b个筛子抛到点数5，c个筛子抛到点数4，d个筛子抛到点数3，e个筛子抛到点数2, f个筛子抛到点数1，a+b+c+d+e+f = 10而且让a,b,c,d,e,f遍历1到10，6a+5b+4c+3d+2e+f==x没成立一次，n就加1。\n",
    "    然后让i遍历10到60，将Find_number_of_ways(i)放到一个列表中，找到列表中最大值对应的i。结果得出是34。得出结果是34的筛子有141种投法。 ]\n"
   ]
  },
  {
   "cell_type": "markdown",
   "metadata": {},
   "source": [
    "# 4. Dynamic programming\n",
    "\n",
    "**4.1 [5 points]** Write a function `Random_integer` to fill an array of `N` elements by randomly selecting integers from `0` to `10`."
   ]
  },
  {
   "cell_type": "code",
   "execution_count": 2,
   "metadata": {},
   "outputs": [],
   "source": [
    "import random\n",
    "# 4.1\n",
    "# def Random_integer(N):\n",
    "#     # Your code here\n",
    "# 4.1写一个函数 Random_integer\n",
    "def  Random_integer(N):\n",
    "    Matrix = np.ones(N)                      # 初始化一个N个值为1组成的数组\n",
    "    for i in range(N):                       # 循环 N 次，给数组的每个元素赋值为 0 到 10 的随机整数。\n",
    "        Matrix[i] = random.randint(0, 10)\n",
    "    return Matrix"
   ]
  },
  {
   "cell_type": "markdown",
   "metadata": {},
   "source": [
    "**4.2 [15 points]** Write a function `Sum_averages` to compute the sum of the average of all subsets of the array. For example, given an array of `[1, 2, 3]`, you `Sum_averages` function should compute the sum of: average of `[1]`, average of `[2]`, average of `[3]`,  average of `[1, 2]`, average of `[1, 3]`, average of `[2, 3]`, and average of `[1, 2, 3]`.  "
   ]
  },
  {
   "cell_type": "code",
   "execution_count": 4,
   "metadata": {},
   "outputs": [],
   "source": [
    "# 4.2\n",
    "# def Sum_averages(array): \n",
    "import numpy as np\n",
    "import math\n",
    "def Sum_averages(s):\n",
    "    n = len(s)  # 列表的大小\n",
    "    sum = 0  # 平均值的总和\n",
    "    # 遍历集合中的每个元素\n",
    "    for element in s:\n",
    "        element_sum = 0  # 当前元素的值占比\n",
    "        # 对于每一个元素，计算它在每个子集大小中的贡献\n",
    "        for k in range(1, n + 1):\n",
    "            # 计算该元素在大小为k的子集中的贡献\n",
    "            comb_count = math.comb(n - 1, k - 1)  # 从 n-1 个其他元素中选 k-1 个组合\n",
    "            element_sum += (element / k) * comb_count  #计算组合数之后乘以元素对应该组合的值\n",
    "        # 累加每个元素的值\n",
    "        sum += element_sum\n",
    "    return sum \n",
    "#     # Your code here"
   ]
  },
  {
   "cell_type": "markdown",
   "metadata": {},
   "source": [
    "**4.3 [5 points]** Call `Sum_averages` with `N` increasing from `1` to `100`, assign the output to a list called `Total_sum_averages`. Plot `Total_sum_averages`, describe what you see.\n"
   ]
  },
  {
   "cell_type": "code",
   "execution_count": 6,
   "metadata": {},
   "outputs": [
    {
     "data": {
      "image/png": "[encoded data removed]",
      "text/plain": [
       "<Figure size 640x480 with 1 Axes>"
      ]
     },
     "metadata": {},
     "output_type": "display_data"
    }
   ],
   "source": [
    "# 4.3\n",
    "import matplotlib.pyplot as plt\n",
    "list1 = []\n",
    "for i in range(1, 101):\n",
    "    # print(i)\n",
    "    result = Sum_averages(Random_integer(i))\n",
    "    list1.append(result)  # 将结果添加到 list1 中\n",
    "# print(list1)\n",
    "# 使用 Matplotlib 绘制 list1 的结果\n",
    "plt.plot(list1)\n",
    "plt.xlabel('Matrix Size (i)')\n",
    "plt.ylabel('Sum of Averages')\n",
    "plt.title('Sum of Averages vs Matrix Size')\n",
    "plt.show()\n",
    "#Your code here"
   ]
  },
  {
   "cell_type": "markdown",
   "metadata": {},
   "source": [
    "1.由上图可以看出，是一个上升曲线，并且在数列长度为90多的时候呈现爆炸式上升的趋势。可能的原因是数组的非空子集个数是2的n次方-1，所以所有的子集的平均值加和也会呈现出指数级增长的过程。\n",
    "2.图中数列长度在1-90的过程中虽然很平滑，但通过推想，其实不应该是平滑上升的，实际上可能是有起伏的，但是因为纵坐标范围太大了（10的30次方）所以微弱的起伏忽略不计了。"
   ]
  },
  {
   "cell_type": "markdown",
   "metadata": {},
   "source": [
    "[ 思路：1.我一开始采用了分别求出每一个子集的平均值的方法，然后发现那个方法计算量太大了，4.3根本算不完\n",
    "    2.我请教了一下张柏欣同学，他说让我试着往找到规律公式的思路上想，然后我就举了几组，试着推理了一下，找到了经验公式，就是数组里的每一个元素对均值总和计算的贡献，应该是这个元素×comb(n - 1, k - 1)/k  (其中n是数组的总元素数，k是某个元素跟其他元素组成的子集的元素数）]."
   ]
  },
  {
   "cell_type": "markdown",
   "metadata": {},
   "source": [
    "# 5. Path counting\n",
    "\n",
    "**5.1 [5 points]** Create a matrix with `N` rows and `M` columns, fill the right-bottom corner and top-left corner cells with `1`, and randomly fill the rest of matrix with integer `0` or `1`."
   ]
  },
  {
   "cell_type": "code",
   "execution_count": 10,
   "metadata": {},
   "outputs": [],
   "source": [
    "# Your code here\n",
    "import numpy as np\n",
    "import random\n",
    "# 5.1创建一个 N 行 M 列的矩阵\n",
    "def GenerateMatrix(N, M):\n",
    "    Matrix = np.ones((N, M))          # 初始化一个全为1的矩阵\n",
    "    for i in range(N):\n",
    "        for j in range(M):\n",
    "            Matrix[i, j] = random.randint(0, 1)    #矩阵里的数全部随机赋值0或1\n",
    "    Matrix[0, 0] = 1                               #矩阵左上角=1\n",
    "    Matrix[N-1, M-1] = 1                           #矩阵右下角=1\n",
    "    return Matrix"
   ]
  },
  {
   "cell_type": "markdown",
   "metadata": {},
   "source": [
    "**5.2 [25 points]** Consider a cell marked with `0` as a blockage or dead-end, and a cell marked with `1` is good to go. Write a function `Count_path` to count the total number of paths to reach the right-bottom corner cell from the top-left corner cell. \n",
    "\n",
    "**Notice:** for a given cell, you are **only allowed** to move either rightward or downward."
   ]
  },
  {
   "cell_type": "code",
   "execution_count": 12,
   "metadata": {},
   "outputs": [],
   "source": [
    "# def Count_path(matrix):\n",
    "def Count_path(Matrix):\n",
    "    N, M = Matrix.shape\n",
    "    for i in range(N):\n",
    "        for j in range(M):\n",
    "            if int(Matrix[i, j]) == 1:\n",
    "                if i == 0 and j == 0:          #对于左上角的元素无需操作\n",
    "                    continue\n",
    "                if i == 0:                     #对于第一行的元素，只考虑其左边的元素\n",
    "                    Matrix[i, j] = Matrix[i, j - 1]\n",
    "                elif j == 0:                   #对于第一列的元素，只考虑其上边的元素\n",
    "                    Matrix[i, j] = Matrix[i-1, j ]\n",
    "                else:                          #其他地方的元素，考虑其上边加左边的两个元素\n",
    "                    Matrix[i, j] = Matrix[i - 1, j] + Matrix[i, j - 1]\n",
    "                    # print(Matrix)\n",
    "    return Matrix[N - 1, M - 1]                #返回，此时右下角的值就是路径方式的总数\n",
    "    # Your code here"
   ]
  },
  {
   "cell_type": "markdown",
   "metadata": {},
   "source": [
    "**5.3 [5 points]** Let `N = 10, M = 8`, run `Count_path` for `1000` times, each time the matrix (except the right-bottom corner and top-left corner cells, which remain being `1`) is re-filled with integer `0` or `1` randomly, report the mean of total number of paths from the `1000` runs."
   ]
  },
  {
   "cell_type": "code",
   "execution_count": 14,
   "metadata": {},
   "outputs": [
    {
     "name": "stdout",
     "output_type": "stream",
     "text": [
      "The mean of total number of paths from the 1000 runs is 0.382\n"
     ]
    }
   ],
   "source": [
    "# Your code here\n",
    "sum = 0\n",
    "for i in range(1000):\n",
    "    sum += Count_path(GenerateMatrix(10, 8))\n",
    "print(f\"The mean of total number of paths from the 1000 runs is {sum/1000}\")\n"
   ]
  },
  {
   "cell_type": "markdown",
   "metadata": {},
   "source": [
    "Report the mean of total number of paths from the `1000` runs. [0.382]"
   ]
  },
  {
   "cell_type": "markdown",
   "metadata": {},
   "source": [
    "[ 思路：对于某个位置的元素，走到这个元素有几条路，取决于其上面和左边的两个元素是什么，是1就表一条能走通的路，是0就代表不能走通，一次类推，左边的值加上上边的值就等于能走通的路的数量，以此类推，可以从左上角开始，把每一个数用其左边和上边的值的加和表示，这样一直遍历到右下角，右下角的值就是从左上到右下能走通的路的数量。\n",
    "结果：运行了几次发现结果不尽相同，但都小于1，是0.几。 ]"
   ]
  },
  {
   "cell_type": "code",
   "execution_count": null,
   "metadata": {},
   "outputs": [],
   "source": []
  }
 ],
 "metadata": {
  "kernelspec": {
   "display_name": "Python 3 (ipykernel)",
   "language": "python",
   "name": "python3"
  },
  "language_info": {
   "codemirror_mode": {
    "name": "ipython",
    "version": 3
   },
   "file_extension": ".py",
   "mimetype": "text/x-python",
   "name": "python",
   "nbconvert_exporter": "python",
   "pygments_lexer": "ipython3",
   "version": "3.9.13"
  }
 },
 "nbformat": 4,
 "nbformat_minor": 4
}
